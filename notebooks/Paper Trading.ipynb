{
 "cells": [
  {
   "cell_type": "code",
   "execution_count": 1,
   "id": "587e2b8b",
   "metadata": {},
   "outputs": [],
   "source": [
    "# # Setting the project folder as the root folder to import project packages\n",
    "import os\n",
    "os.chdir('../')\n",
    "\n",
    "import credentials\n",
    "from src.api_client.api_client import BinanceClient, BinancePaperTradingClient\n",
    "from binance import enums"
   ]
  },
  {
   "cell_type": "markdown",
   "id": "d2fb4660",
   "metadata": {},
   "source": [
    "### Trade using real exchange rate, commission, etc. but with fake funds"
   ]
  },
  {
   "cell_type": "code",
   "execution_count": 2,
   "id": "01ba28c2",
   "metadata": {},
   "outputs": [],
   "source": [
    "binance = BinancePaperTradingClient(\n",
    "    api_key=credentials.BINANCE_API_KEY,\n",
    "    api_secret=credentials.BINANCE_API_SECRET\n",
    ")"
   ]
  },
  {
   "cell_type": "code",
   "execution_count": 4,
   "id": "ed7ce1a4",
   "metadata": {},
   "outputs": [
    {
     "data": {
      "text/plain": [
       "{'BTC': 0.02, 'USDT': 1000}"
      ]
     },
     "execution_count": 4,
     "metadata": {},
     "output_type": "execute_result"
    }
   ],
   "source": [
    "binance.get_balances()"
   ]
  },
  {
   "cell_type": "code",
   "execution_count": 5,
   "id": "63ea1045",
   "metadata": {},
   "outputs": [],
   "source": [
    "amount = 0.000012"
   ]
  },
  {
   "cell_type": "code",
   "execution_count": 6,
   "id": "26643869",
   "metadata": {},
   "outputs": [],
   "source": [
    "binance.trade('BTC', 'USDT', enums.SIDE_BUY, amount)"
   ]
  },
  {
   "cell_type": "code",
   "execution_count": 7,
   "id": "eb0ca8c3",
   "metadata": {},
   "outputs": [
    {
     "data": {
      "text/plain": [
       "{'BTC': 0.02001, 'USDT': 999.6232738502}"
      ]
     },
     "execution_count": 7,
     "metadata": {},
     "output_type": "execute_result"
    }
   ],
   "source": [
    "binance.get_balances()"
   ]
  },
  {
   "cell_type": "markdown",
   "id": "ce038a28",
   "metadata": {},
   "source": [
    "### Another try: The balance of USDT should be slightly different as the price changes"
   ]
  },
  {
   "cell_type": "code",
   "execution_count": 8,
   "id": "8dcd4048",
   "metadata": {},
   "outputs": [],
   "source": [
    "binance = BinancePaperTradingClient(\n",
    "    api_key=credentials.BINANCE_API_KEY,\n",
    "    api_secret=credentials.BINANCE_API_SECRET\n",
    ")"
   ]
  },
  {
   "cell_type": "code",
   "execution_count": 9,
   "id": "698623a7",
   "metadata": {},
   "outputs": [
    {
     "data": {
      "text/plain": [
       "{'BTC': 0.02, 'USDT': 1000}"
      ]
     },
     "execution_count": 9,
     "metadata": {},
     "output_type": "execute_result"
    }
   ],
   "source": [
    "binance.get_balances()"
   ]
  },
  {
   "cell_type": "code",
   "execution_count": 10,
   "id": "2bc39dd1",
   "metadata": {},
   "outputs": [],
   "source": [
    "amount = 0.000012"
   ]
  },
  {
   "cell_type": "code",
   "execution_count": 11,
   "id": "80d34153",
   "metadata": {},
   "outputs": [],
   "source": [
    "binance.trade('BTC', 'USDT', enums.SIDE_BUY, amount)"
   ]
  },
  {
   "cell_type": "code",
   "execution_count": 12,
   "id": "1873f063",
   "metadata": {},
   "outputs": [
    {
     "data": {
      "text/plain": [
       "{'BTC': 0.02001, 'USDT': 999.6234399161}"
      ]
     },
     "execution_count": 12,
     "metadata": {},
     "output_type": "execute_result"
    }
   ],
   "source": [
    "binance.get_balances()"
   ]
  }
 ],
 "metadata": {
  "kernelspec": {
   "display_name": "Python 3",
   "language": "python",
   "name": "python3"
  },
  "language_info": {
   "codemirror_mode": {
    "name": "ipython",
    "version": 3
   },
   "file_extension": ".py",
   "mimetype": "text/x-python",
   "name": "python",
   "nbconvert_exporter": "python",
   "pygments_lexer": "ipython3",
   "version": "3.8.5"
  }
 },
 "nbformat": 4,
 "nbformat_minor": 5
}
